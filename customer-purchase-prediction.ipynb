{
 "cells": [
  {
   "cell_type": "code",
   "execution_count": 1,
   "id": "91a7648b",
   "metadata": {
    "_cell_guid": "b1076dfc-b9ad-4769-8c92-a6c4dae69d19",
    "_uuid": "8f2839f25d086af736a60e9eeb907d3b93b6e0e5",
    "execution": {
     "iopub.execute_input": "2024-05-24T08:21:34.549858Z",
     "iopub.status.busy": "2024-05-24T08:21:34.549469Z",
     "iopub.status.idle": "2024-05-24T08:21:36.071271Z",
     "shell.execute_reply": "2024-05-24T08:21:36.070379Z"
    },
    "papermill": {
     "duration": 1.529953,
     "end_time": "2024-05-24T08:21:36.073871",
     "exception": false,
     "start_time": "2024-05-24T08:21:34.543918",
     "status": "completed"
    },
    "tags": []
   },
   "outputs": [],
   "source": [
    "import pandas as pd\n",
    "p=pd.read_csv('https://github.com/YBIFoundation/Dataset/raw/main/Customer%20Purchase.csv')"
   ]
  },
  {
   "cell_type": "code",
   "execution_count": 2,
   "id": "27df76a7",
   "metadata": {
    "execution": {
     "iopub.execute_input": "2024-05-24T08:21:36.083741Z",
     "iopub.status.busy": "2024-05-24T08:21:36.083094Z",
     "iopub.status.idle": "2024-05-24T08:21:36.102372Z",
     "shell.execute_reply": "2024-05-24T08:21:36.101493Z"
    },
    "papermill": {
     "duration": 0.026081,
     "end_time": "2024-05-24T08:21:36.104437",
     "exception": false,
     "start_time": "2024-05-24T08:21:36.078356",
     "status": "completed"
    },
    "tags": []
   },
   "outputs": [
    {
     "data": {
      "text/html": [
       "<div>\n",
       "<style scoped>\n",
       "    .dataframe tbody tr th:only-of-type {\n",
       "        vertical-align: middle;\n",
       "    }\n",
       "\n",
       "    .dataframe tbody tr th {\n",
       "        vertical-align: top;\n",
       "    }\n",
       "\n",
       "    .dataframe thead th {\n",
       "        text-align: right;\n",
       "    }\n",
       "</style>\n",
       "<table border=\"1\" class=\"dataframe\">\n",
       "  <thead>\n",
       "    <tr style=\"text-align: right;\">\n",
       "      <th></th>\n",
       "      <th>Customer ID</th>\n",
       "      <th>Age</th>\n",
       "      <th>Gender</th>\n",
       "      <th>Education</th>\n",
       "      <th>Review</th>\n",
       "      <th>Purchased</th>\n",
       "    </tr>\n",
       "  </thead>\n",
       "  <tbody>\n",
       "    <tr>\n",
       "      <th>0</th>\n",
       "      <td>1021</td>\n",
       "      <td>30</td>\n",
       "      <td>Female</td>\n",
       "      <td>School</td>\n",
       "      <td>Average</td>\n",
       "      <td>No</td>\n",
       "    </tr>\n",
       "    <tr>\n",
       "      <th>1</th>\n",
       "      <td>1022</td>\n",
       "      <td>68</td>\n",
       "      <td>Female</td>\n",
       "      <td>UG</td>\n",
       "      <td>Poor</td>\n",
       "      <td>No</td>\n",
       "    </tr>\n",
       "    <tr>\n",
       "      <th>2</th>\n",
       "      <td>1023</td>\n",
       "      <td>70</td>\n",
       "      <td>Female</td>\n",
       "      <td>PG</td>\n",
       "      <td>Good</td>\n",
       "      <td>No</td>\n",
       "    </tr>\n",
       "    <tr>\n",
       "      <th>3</th>\n",
       "      <td>1024</td>\n",
       "      <td>72</td>\n",
       "      <td>Female</td>\n",
       "      <td>PG</td>\n",
       "      <td>Good</td>\n",
       "      <td>No</td>\n",
       "    </tr>\n",
       "    <tr>\n",
       "      <th>4</th>\n",
       "      <td>1025</td>\n",
       "      <td>16</td>\n",
       "      <td>Female</td>\n",
       "      <td>UG</td>\n",
       "      <td>Average</td>\n",
       "      <td>No</td>\n",
       "    </tr>\n",
       "  </tbody>\n",
       "</table>\n",
       "</div>"
      ],
      "text/plain": [
       "   Customer ID  Age  Gender Education   Review Purchased\n",
       "0         1021   30  Female    School  Average        No\n",
       "1         1022   68  Female        UG     Poor        No\n",
       "2         1023   70  Female        PG     Good        No\n",
       "3         1024   72  Female        PG     Good        No\n",
       "4         1025   16  Female        UG  Average        No"
      ]
     },
     "execution_count": 2,
     "metadata": {},
     "output_type": "execute_result"
    }
   ],
   "source": [
    "p.head()"
   ]
  },
  {
   "cell_type": "code",
   "execution_count": 3,
   "id": "2519a797",
   "metadata": {
    "execution": {
     "iopub.execute_input": "2024-05-24T08:21:36.113048Z",
     "iopub.status.busy": "2024-05-24T08:21:36.112756Z",
     "iopub.status.idle": "2024-05-24T08:21:36.118503Z",
     "shell.execute_reply": "2024-05-24T08:21:36.117602Z"
    },
    "papermill": {
     "duration": 0.012128,
     "end_time": "2024-05-24T08:21:36.120364",
     "exception": false,
     "start_time": "2024-05-24T08:21:36.108236",
     "status": "completed"
    },
    "tags": []
   },
   "outputs": [
    {
     "data": {
      "text/plain": [
       "Index(['Customer ID', 'Age', 'Gender', 'Education', 'Review', 'Purchased'], dtype='object')"
      ]
     },
     "execution_count": 3,
     "metadata": {},
     "output_type": "execute_result"
    }
   ],
   "source": [
    "p.columns"
   ]
  },
  {
   "cell_type": "code",
   "execution_count": 4,
   "id": "7a94380b",
   "metadata": {
    "execution": {
     "iopub.execute_input": "2024-05-24T08:21:36.129659Z",
     "iopub.status.busy": "2024-05-24T08:21:36.128997Z",
     "iopub.status.idle": "2024-05-24T08:21:36.137929Z",
     "shell.execute_reply": "2024-05-24T08:21:36.137057Z"
    },
    "papermill": {
     "duration": 0.015533,
     "end_time": "2024-05-24T08:21:36.139807",
     "exception": false,
     "start_time": "2024-05-24T08:21:36.124274",
     "status": "completed"
    },
    "tags": []
   },
   "outputs": [],
   "source": [
    "y=p['Purchased']\n",
    "X=p[['Age', 'Gender', 'Education', 'Review']]"
   ]
  },
  {
   "cell_type": "code",
   "execution_count": 5,
   "id": "9d582da0",
   "metadata": {
    "execution": {
     "iopub.execute_input": "2024-05-24T08:21:36.148929Z",
     "iopub.status.busy": "2024-05-24T08:21:36.148416Z",
     "iopub.status.idle": "2024-05-24T08:21:36.157913Z",
     "shell.execute_reply": "2024-05-24T08:21:36.157048Z"
    },
    "papermill": {
     "duration": 0.016315,
     "end_time": "2024-05-24T08:21:36.160105",
     "exception": false,
     "start_time": "2024-05-24T08:21:36.143790",
     "status": "completed"
    },
    "tags": []
   },
   "outputs": [
    {
     "name": "stderr",
     "output_type": "stream",
     "text": [
      "/tmp/ipykernel_18/2223313754.py:1: FutureWarning: Downcasting behavior in `replace` is deprecated and will be removed in a future version. To retain the old behavior, explicitly call `result.infer_objects(copy=False)`. To opt-in to the future behavior, set `pd.set_option('future.no_silent_downcasting', True)`\n",
      "  X.replace({'Review':{'Poor':0,'Average':1,'Good':2}},inplace=True)\n",
      "/tmp/ipykernel_18/2223313754.py:1: SettingWithCopyWarning: \n",
      "A value is trying to be set on a copy of a slice from a DataFrame.\n",
      "Try using .loc[row_indexer,col_indexer] = value instead\n",
      "\n",
      "See the caveats in the documentation: https://pandas.pydata.org/pandas-docs/stable/user_guide/indexing.html#returning-a-view-versus-a-copy\n",
      "  X.replace({'Review':{'Poor':0,'Average':1,'Good':2}},inplace=True)\n",
      "/tmp/ipykernel_18/2223313754.py:2: FutureWarning: Downcasting behavior in `replace` is deprecated and will be removed in a future version. To retain the old behavior, explicitly call `result.infer_objects(copy=False)`. To opt-in to the future behavior, set `pd.set_option('future.no_silent_downcasting', True)`\n",
      "  X.replace({'Education':{'School':0,'UG':1,'PG':2}},inplace=True)\n",
      "/tmp/ipykernel_18/2223313754.py:2: SettingWithCopyWarning: \n",
      "A value is trying to be set on a copy of a slice from a DataFrame.\n",
      "Try using .loc[row_indexer,col_indexer] = value instead\n",
      "\n",
      "See the caveats in the documentation: https://pandas.pydata.org/pandas-docs/stable/user_guide/indexing.html#returning-a-view-versus-a-copy\n",
      "  X.replace({'Education':{'School':0,'UG':1,'PG':2}},inplace=True)\n",
      "/tmp/ipykernel_18/2223313754.py:3: FutureWarning: Downcasting behavior in `replace` is deprecated and will be removed in a future version. To retain the old behavior, explicitly call `result.infer_objects(copy=False)`. To opt-in to the future behavior, set `pd.set_option('future.no_silent_downcasting', True)`\n",
      "  X.replace({'Gender':{'Male': 0,'Female':1}},inplace=True)\n",
      "/tmp/ipykernel_18/2223313754.py:3: SettingWithCopyWarning: \n",
      "A value is trying to be set on a copy of a slice from a DataFrame.\n",
      "Try using .loc[row_indexer,col_indexer] = value instead\n",
      "\n",
      "See the caveats in the documentation: https://pandas.pydata.org/pandas-docs/stable/user_guide/indexing.html#returning-a-view-versus-a-copy\n",
      "  X.replace({'Gender':{'Male': 0,'Female':1}},inplace=True)\n"
     ]
    }
   ],
   "source": [
    "X.replace({'Review':{'Poor':0,'Average':1,'Good':2}},inplace=True)\n",
    "X.replace({'Education':{'School':0,'UG':1,'PG':2}},inplace=True)\n",
    "X.replace({'Gender':{'Male': 0,'Female':1}},inplace=True)"
   ]
  },
  {
   "cell_type": "code",
   "execution_count": 6,
   "id": "b599d31f",
   "metadata": {
    "execution": {
     "iopub.execute_input": "2024-05-24T08:21:36.169452Z",
     "iopub.status.busy": "2024-05-24T08:21:36.169174Z",
     "iopub.status.idle": "2024-05-24T08:21:36.177844Z",
     "shell.execute_reply": "2024-05-24T08:21:36.176986Z"
    },
    "papermill": {
     "duration": 0.015602,
     "end_time": "2024-05-24T08:21:36.179815",
     "exception": false,
     "start_time": "2024-05-24T08:21:36.164213",
     "status": "completed"
    },
    "tags": []
   },
   "outputs": [
    {
     "data": {
      "text/html": [
       "<div>\n",
       "<style scoped>\n",
       "    .dataframe tbody tr th:only-of-type {\n",
       "        vertical-align: middle;\n",
       "    }\n",
       "\n",
       "    .dataframe tbody tr th {\n",
       "        vertical-align: top;\n",
       "    }\n",
       "\n",
       "    .dataframe thead th {\n",
       "        text-align: right;\n",
       "    }\n",
       "</style>\n",
       "<table border=\"1\" class=\"dataframe\">\n",
       "  <thead>\n",
       "    <tr style=\"text-align: right;\">\n",
       "      <th></th>\n",
       "      <th>Age</th>\n",
       "      <th>Gender</th>\n",
       "      <th>Education</th>\n",
       "      <th>Review</th>\n",
       "    </tr>\n",
       "  </thead>\n",
       "  <tbody>\n",
       "    <tr>\n",
       "      <th>0</th>\n",
       "      <td>30</td>\n",
       "      <td>1</td>\n",
       "      <td>0</td>\n",
       "      <td>1</td>\n",
       "    </tr>\n",
       "    <tr>\n",
       "      <th>1</th>\n",
       "      <td>68</td>\n",
       "      <td>1</td>\n",
       "      <td>1</td>\n",
       "      <td>0</td>\n",
       "    </tr>\n",
       "    <tr>\n",
       "      <th>2</th>\n",
       "      <td>70</td>\n",
       "      <td>1</td>\n",
       "      <td>2</td>\n",
       "      <td>2</td>\n",
       "    </tr>\n",
       "    <tr>\n",
       "      <th>3</th>\n",
       "      <td>72</td>\n",
       "      <td>1</td>\n",
       "      <td>2</td>\n",
       "      <td>2</td>\n",
       "    </tr>\n",
       "    <tr>\n",
       "      <th>4</th>\n",
       "      <td>16</td>\n",
       "      <td>1</td>\n",
       "      <td>1</td>\n",
       "      <td>1</td>\n",
       "    </tr>\n",
       "  </tbody>\n",
       "</table>\n",
       "</div>"
      ],
      "text/plain": [
       "   Age  Gender  Education  Review\n",
       "0   30       1          0       1\n",
       "1   68       1          1       0\n",
       "2   70       1          2       2\n",
       "3   72       1          2       2\n",
       "4   16       1          1       1"
      ]
     },
     "execution_count": 6,
     "metadata": {},
     "output_type": "execute_result"
    }
   ],
   "source": [
    "X.head()"
   ]
  },
  {
   "cell_type": "code",
   "execution_count": 7,
   "id": "f90ab2ce",
   "metadata": {
    "execution": {
     "iopub.execute_input": "2024-05-24T08:21:36.189589Z",
     "iopub.status.busy": "2024-05-24T08:21:36.188879Z",
     "iopub.status.idle": "2024-05-24T08:21:37.211864Z",
     "shell.execute_reply": "2024-05-24T08:21:37.210841Z"
    },
    "papermill": {
     "duration": 1.030293,
     "end_time": "2024-05-24T08:21:37.214305",
     "exception": false,
     "start_time": "2024-05-24T08:21:36.184012",
     "status": "completed"
    },
    "tags": []
   },
   "outputs": [],
   "source": [
    "from sklearn.model_selection import train_test_split\n",
    "X_train, X_test, y_train, y_test = train_test_split(X,y, train_size=0.7, random_state=2529)"
   ]
  },
  {
   "cell_type": "code",
   "execution_count": 8,
   "id": "db8f9af3",
   "metadata": {
    "execution": {
     "iopub.execute_input": "2024-05-24T08:21:37.224711Z",
     "iopub.status.busy": "2024-05-24T08:21:37.223927Z",
     "iopub.status.idle": "2024-05-24T08:21:37.501660Z",
     "shell.execute_reply": "2024-05-24T08:21:37.500676Z"
    },
    "papermill": {
     "duration": 0.285467,
     "end_time": "2024-05-24T08:21:37.504215",
     "exception": false,
     "start_time": "2024-05-24T08:21:37.218748",
     "status": "completed"
    },
    "tags": []
   },
   "outputs": [],
   "source": [
    "from sklearn.ensemble import RandomForestClassifier\n",
    "model = RandomForestClassifier()"
   ]
  },
  {
   "cell_type": "code",
   "execution_count": 9,
   "id": "b17a332d",
   "metadata": {
    "execution": {
     "iopub.execute_input": "2024-05-24T08:21:37.514188Z",
     "iopub.status.busy": "2024-05-24T08:21:37.513757Z",
     "iopub.status.idle": "2024-05-24T08:21:37.681600Z",
     "shell.execute_reply": "2024-05-24T08:21:37.680672Z"
    },
    "papermill": {
     "duration": 0.17501,
     "end_time": "2024-05-24T08:21:37.683682",
     "exception": false,
     "start_time": "2024-05-24T08:21:37.508672",
     "status": "completed"
    },
    "tags": []
   },
   "outputs": [
    {
     "data": {
      "text/html": [
       "<style>#sk-container-id-1 {color: black;background-color: white;}#sk-container-id-1 pre{padding: 0;}#sk-container-id-1 div.sk-toggleable {background-color: white;}#sk-container-id-1 label.sk-toggleable__label {cursor: pointer;display: block;width: 100%;margin-bottom: 0;padding: 0.3em;box-sizing: border-box;text-align: center;}#sk-container-id-1 label.sk-toggleable__label-arrow:before {content: \"▸\";float: left;margin-right: 0.25em;color: #696969;}#sk-container-id-1 label.sk-toggleable__label-arrow:hover:before {color: black;}#sk-container-id-1 div.sk-estimator:hover label.sk-toggleable__label-arrow:before {color: black;}#sk-container-id-1 div.sk-toggleable__content {max-height: 0;max-width: 0;overflow: hidden;text-align: left;background-color: #f0f8ff;}#sk-container-id-1 div.sk-toggleable__content pre {margin: 0.2em;color: black;border-radius: 0.25em;background-color: #f0f8ff;}#sk-container-id-1 input.sk-toggleable__control:checked~div.sk-toggleable__content {max-height: 200px;max-width: 100%;overflow: auto;}#sk-container-id-1 input.sk-toggleable__control:checked~label.sk-toggleable__label-arrow:before {content: \"▾\";}#sk-container-id-1 div.sk-estimator input.sk-toggleable__control:checked~label.sk-toggleable__label {background-color: #d4ebff;}#sk-container-id-1 div.sk-label input.sk-toggleable__control:checked~label.sk-toggleable__label {background-color: #d4ebff;}#sk-container-id-1 input.sk-hidden--visually {border: 0;clip: rect(1px 1px 1px 1px);clip: rect(1px, 1px, 1px, 1px);height: 1px;margin: -1px;overflow: hidden;padding: 0;position: absolute;width: 1px;}#sk-container-id-1 div.sk-estimator {font-family: monospace;background-color: #f0f8ff;border: 1px dotted black;border-radius: 0.25em;box-sizing: border-box;margin-bottom: 0.5em;}#sk-container-id-1 div.sk-estimator:hover {background-color: #d4ebff;}#sk-container-id-1 div.sk-parallel-item::after {content: \"\";width: 100%;border-bottom: 1px solid gray;flex-grow: 1;}#sk-container-id-1 div.sk-label:hover label.sk-toggleable__label {background-color: #d4ebff;}#sk-container-id-1 div.sk-serial::before {content: \"\";position: absolute;border-left: 1px solid gray;box-sizing: border-box;top: 0;bottom: 0;left: 50%;z-index: 0;}#sk-container-id-1 div.sk-serial {display: flex;flex-direction: column;align-items: center;background-color: white;padding-right: 0.2em;padding-left: 0.2em;position: relative;}#sk-container-id-1 div.sk-item {position: relative;z-index: 1;}#sk-container-id-1 div.sk-parallel {display: flex;align-items: stretch;justify-content: center;background-color: white;position: relative;}#sk-container-id-1 div.sk-item::before, #sk-container-id-1 div.sk-parallel-item::before {content: \"\";position: absolute;border-left: 1px solid gray;box-sizing: border-box;top: 0;bottom: 0;left: 50%;z-index: -1;}#sk-container-id-1 div.sk-parallel-item {display: flex;flex-direction: column;z-index: 1;position: relative;background-color: white;}#sk-container-id-1 div.sk-parallel-item:first-child::after {align-self: flex-end;width: 50%;}#sk-container-id-1 div.sk-parallel-item:last-child::after {align-self: flex-start;width: 50%;}#sk-container-id-1 div.sk-parallel-item:only-child::after {width: 0;}#sk-container-id-1 div.sk-dashed-wrapped {border: 1px dashed gray;margin: 0 0.4em 0.5em 0.4em;box-sizing: border-box;padding-bottom: 0.4em;background-color: white;}#sk-container-id-1 div.sk-label label {font-family: monospace;font-weight: bold;display: inline-block;line-height: 1.2em;}#sk-container-id-1 div.sk-label-container {text-align: center;}#sk-container-id-1 div.sk-container {/* jupyter's `normalize.less` sets `[hidden] { display: none; }` but bootstrap.min.css set `[hidden] { display: none !important; }` so we also need the `!important` here to be able to override the default hidden behavior on the sphinx rendered scikit-learn.org. See: https://github.com/scikit-learn/scikit-learn/issues/21755 */display: inline-block !important;position: relative;}#sk-container-id-1 div.sk-text-repr-fallback {display: none;}</style><div id=\"sk-container-id-1\" class=\"sk-top-container\"><div class=\"sk-text-repr-fallback\"><pre>RandomForestClassifier()</pre><b>In a Jupyter environment, please rerun this cell to show the HTML representation or trust the notebook. <br />On GitHub, the HTML representation is unable to render, please try loading this page with nbviewer.org.</b></div><div class=\"sk-container\" hidden><div class=\"sk-item\"><div class=\"sk-estimator sk-toggleable\"><input class=\"sk-toggleable__control sk-hidden--visually\" id=\"sk-estimator-id-1\" type=\"checkbox\" checked><label for=\"sk-estimator-id-1\" class=\"sk-toggleable__label sk-toggleable__label-arrow\">RandomForestClassifier</label><div class=\"sk-toggleable__content\"><pre>RandomForestClassifier()</pre></div></div></div></div></div>"
      ],
      "text/plain": [
       "RandomForestClassifier()"
      ]
     },
     "execution_count": 9,
     "metadata": {},
     "output_type": "execute_result"
    }
   ],
   "source": [
    "model.fit(X_train,y_train)"
   ]
  },
  {
   "cell_type": "code",
   "execution_count": 10,
   "id": "06074a18",
   "metadata": {
    "execution": {
     "iopub.execute_input": "2024-05-24T08:21:37.693996Z",
     "iopub.status.busy": "2024-05-24T08:21:37.693670Z",
     "iopub.status.idle": "2024-05-24T08:21:37.709450Z",
     "shell.execute_reply": "2024-05-24T08:21:37.708560Z"
    },
    "papermill": {
     "duration": 0.023097,
     "end_time": "2024-05-24T08:21:37.711386",
     "exception": false,
     "start_time": "2024-05-24T08:21:37.688289",
     "status": "completed"
    },
    "tags": []
   },
   "outputs": [],
   "source": [
    "y_pred = model.predict(X_test)"
   ]
  },
  {
   "cell_type": "code",
   "execution_count": 11,
   "id": "ba433f2e",
   "metadata": {
    "execution": {
     "iopub.execute_input": "2024-05-24T08:21:37.721609Z",
     "iopub.status.busy": "2024-05-24T08:21:37.720796Z",
     "iopub.status.idle": "2024-05-24T08:21:37.725099Z",
     "shell.execute_reply": "2024-05-24T08:21:37.724205Z"
    },
    "papermill": {
     "duration": 0.011289,
     "end_time": "2024-05-24T08:21:37.727064",
     "exception": false,
     "start_time": "2024-05-24T08:21:37.715775",
     "status": "completed"
    },
    "tags": []
   },
   "outputs": [],
   "source": [
    "from sklearn.metrics import confusion_matrix, accuracy_score, classification_report"
   ]
  },
  {
   "cell_type": "code",
   "execution_count": 12,
   "id": "c3c296c0",
   "metadata": {
    "execution": {
     "iopub.execute_input": "2024-05-24T08:21:37.736659Z",
     "iopub.status.busy": "2024-05-24T08:21:37.736395Z",
     "iopub.status.idle": "2024-05-24T08:21:37.743618Z",
     "shell.execute_reply": "2024-05-24T08:21:37.742674Z"
    },
    "papermill": {
     "duration": 0.01426,
     "end_time": "2024-05-24T08:21:37.745579",
     "exception": false,
     "start_time": "2024-05-24T08:21:37.731319",
     "status": "completed"
    },
    "tags": []
   },
   "outputs": [
    {
     "data": {
      "text/plain": [
       "array([[7, 0],\n",
       "       [4, 4]])"
      ]
     },
     "execution_count": 12,
     "metadata": {},
     "output_type": "execute_result"
    }
   ],
   "source": [
    "confusion_matrix(y_test,y_pred)"
   ]
  },
  {
   "cell_type": "code",
   "execution_count": 13,
   "id": "4b70f3db",
   "metadata": {
    "execution": {
     "iopub.execute_input": "2024-05-24T08:21:37.755459Z",
     "iopub.status.busy": "2024-05-24T08:21:37.755182Z",
     "iopub.status.idle": "2024-05-24T08:21:37.761555Z",
     "shell.execute_reply": "2024-05-24T08:21:37.760647Z"
    },
    "papermill": {
     "duration": 0.013618,
     "end_time": "2024-05-24T08:21:37.763599",
     "exception": false,
     "start_time": "2024-05-24T08:21:37.749981",
     "status": "completed"
    },
    "tags": []
   },
   "outputs": [
    {
     "data": {
      "text/plain": [
       "0.7333333333333333"
      ]
     },
     "execution_count": 13,
     "metadata": {},
     "output_type": "execute_result"
    }
   ],
   "source": [
    "accuracy_score(y_test,y_pred)"
   ]
  },
  {
   "cell_type": "code",
   "execution_count": 14,
   "id": "4b99cb7c",
   "metadata": {
    "execution": {
     "iopub.execute_input": "2024-05-24T08:21:37.779027Z",
     "iopub.status.busy": "2024-05-24T08:21:37.778234Z",
     "iopub.status.idle": "2024-05-24T08:21:37.793109Z",
     "shell.execute_reply": "2024-05-24T08:21:37.791755Z"
    },
    "papermill": {
     "duration": 0.026204,
     "end_time": "2024-05-24T08:21:37.795829",
     "exception": false,
     "start_time": "2024-05-24T08:21:37.769625",
     "status": "completed"
    },
    "tags": []
   },
   "outputs": [
    {
     "name": "stdout",
     "output_type": "stream",
     "text": [
      "              precision    recall  f1-score   support\n",
      "\n",
      "          No       0.64      1.00      0.78         7\n",
      "         Yes       1.00      0.50      0.67         8\n",
      "\n",
      "    accuracy                           0.73        15\n",
      "   macro avg       0.82      0.75      0.72        15\n",
      "weighted avg       0.83      0.73      0.72        15\n",
      "\n"
     ]
    }
   ],
   "source": [
    "print(classification_report(y_test,y_pred))"
   ]
  }
 ],
 "metadata": {
  "kaggle": {
   "accelerator": "none",
   "dataSources": [],
   "dockerImageVersionId": 30698,
   "isGpuEnabled": false,
   "isInternetEnabled": true,
   "language": "python",
   "sourceType": "notebook"
  },
  "kernelspec": {
   "display_name": "Python 3",
   "language": "python",
   "name": "python3"
  },
  "language_info": {
   "codemirror_mode": {
    "name": "ipython",
    "version": 3
   },
   "file_extension": ".py",
   "mimetype": "text/x-python",
   "name": "python",
   "nbconvert_exporter": "python",
   "pygments_lexer": "ipython3",
   "version": "3.10.13"
  },
  "papermill": {
   "default_parameters": {},
   "duration": 6.107492,
   "end_time": "2024-05-24T08:21:38.232276",
   "environment_variables": {},
   "exception": null,
   "input_path": "__notebook__.ipynb",
   "output_path": "__notebook__.ipynb",
   "parameters": {},
   "start_time": "2024-05-24T08:21:32.124784",
   "version": "2.5.0"
  }
 },
 "nbformat": 4,
 "nbformat_minor": 5
}
